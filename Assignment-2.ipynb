{
 "cells": [
  {
   "cell_type": "markdown",
   "metadata": {},
   "source": [
    "# Task 1:"
   ]
  },
  {
   "cell_type": "markdown",
   "metadata": {},
   "source": [
    "#### 1.1  Write a Python Program to implement your own myreduce() function which works exactly like Python's built-in function reduce() "
   ]
  },
  {
   "cell_type": "code",
   "execution_count": 2,
   "metadata": {},
   "outputs": [],
   "source": [
    "from functools import reduce"
   ]
  },
  {
   "cell_type": "code",
   "execution_count": 6,
   "metadata": {},
   "outputs": [
    {
     "data": {
      "text/plain": [
       "10"
      ]
     },
     "execution_count": 6,
     "metadata": {},
     "output_type": "execute_result"
    }
   ],
   "source": [
    "def my_reduce(x1, x2):   #reduce(func , seq)\n",
    "    return x1 + x2\n",
    "reduce(my_reduce, [1, 2, 3, 4])"
   ]
  },
  {
   "cell_type": "code",
   "execution_count": 9,
   "metadata": {},
   "outputs": [
    {
     "data": {
      "text/plain": [
       "40"
      ]
     },
     "execution_count": 9,
     "metadata": {},
     "output_type": "execute_result"
    }
   ],
   "source": [
    "def my_reduce(x,y):\n",
    "    return x+y\n",
    "reduce(my_reduce,[6,7,8,9,10])"
   ]
  },
  {
   "cell_type": "markdown",
   "metadata": {},
   "source": [
    "#### 1.2 Write a Python program to implement your own myfilter() function which works exactly like Python's built-in function filter() "
   ]
  },
  {
   "cell_type": "code",
   "execution_count": 11,
   "metadata": {},
   "outputs": [
    {
     "data": {
      "text/plain": [
       "[36, 49, 64, 81, 100]"
      ]
     },
     "execution_count": 11,
     "metadata": {},
     "output_type": "execute_result"
    }
   ],
   "source": [
    "item = [6,7,8,9,10]\n",
    "\n",
    "def sqr(x):\n",
    "    return x**2\n",
    "list(map(sqr,item))                 # map(func , seq)                 "
   ]
  },
  {
   "cell_type": "code",
   "execution_count": 18,
   "metadata": {},
   "outputs": [
    {
     "data": {
      "text/plain": [
       "[1, 4, 9, 16, 25]"
      ]
     },
     "execution_count": 18,
     "metadata": {},
     "output_type": "execute_result"
    }
   ],
   "source": [
    "num = [1,2,3,4,5]\n",
    "\n",
    "def square(x):\n",
    "    return x**2\n",
    "list(map(square,num))"
   ]
  },
  {
   "cell_type": "markdown",
   "metadata": {},
   "source": [
    "#### 2. Implement List comprehensions to produce the following lists. \n",
    " \n",
    "Write List comprehensions to produce the following Lists \n",
    " \n",
    "['A', 'C', 'A', 'D', 'G', 'I', ’L’, ‘ D’] \n",
    " \n",
    "['x', 'xx', 'xxx', 'xxxx', 'y', 'yy', 'yyy', 'yyyy', 'z', 'zz', 'zzz', 'zzzz'] \n",
    " \n",
    "['x', 'y', 'z', 'xx', 'yy', 'zz', 'xx', 'yy', 'zz', 'xxxx', 'yyyy', 'zzzz'] \n",
    " \n",
    "[[2], [3], [4], [3], [4], [5], [4], [5], [6]] \n",
    " \n",
    "[[2, 3, 4, 5], [3, 4, 5, 6], [4, 5, 6, 7], [5, 6, 7, 8]] \n",
    " \n",
    "[(1, 1), (2, 1), (3, 1), (1, 2), (2, 2), (3, 2), (1, 3), (2, 3), (3, 3)] "
   ]
  },
  {
   "cell_type": "code",
   "execution_count": 25,
   "metadata": {},
   "outputs": [
    {
     "data": {
      "text/plain": [
       "[(1, 1), (2, 1), (3, 1), (1, 2), (2, 2), (3, 2), (1, 3), (2, 3), (3, 3)]"
      ]
     },
     "execution_count": 25,
     "metadata": {},
     "output_type": "execute_result"
    }
   ],
   "source": [
    "['A', 'C', 'A', 'D', 'G', 'I', 'L', 'D']\n",
    "['x', 'xx', 'xxx', 'xxxx', 'y', 'yy', 'yyy', 'yyyy', 'z', 'zz', 'zzz', 'zzzz']\n",
    "['x', 'y', 'z', 'xx', 'yy', 'zz', 'xxx', 'yyy', 'zzz', 'xxxx', 'yyyy', 'zzzz']\n",
    "[[2], [3], [4], [3], [4], [5], [4], [5], [6]]\n",
    "[[2, 3, 4, 5], [3, 4, 5, 6], [4, 5, 6, 7], [5, 6, 7, 8]]\n",
    "[(1, 1), (2, 1), (3, 1), (1, 2), (2, 2), (3, 2), (1, 3), (2, 3), (3, 3)]"
   ]
  },
  {
   "cell_type": "code",
   "execution_count": 30,
   "metadata": {},
   "outputs": [
    {
     "name": "stdout",
     "output_type": "stream",
     "text": [
      "ACADGILD => ['A', 'C', 'A', 'D', 'G', 'I', 'L', 'D']\n"
     ]
    }
   ],
   "source": [
    "word = \"ACADGILD\"\n",
    "alphabet_list = [ alphabet for alphabet in word ]\n",
    "print (\"ACADGILD => \"  + str(alphabet_list))"
   ]
  },
  {
   "cell_type": "code",
   "execution_count": 32,
   "metadata": {},
   "outputs": [
    {
     "name": "stdout",
     "output_type": "stream",
     "text": [
      "['x','y','z'] => ['x', 'xx', 'xxx', 'xxxx', 'y', 'yy', 'yyy', 'yyyy', 'z', 'zz', 'zzz', 'zzzz']\n"
     ]
    }
   ],
   "source": [
    "input_list = ['x','y','z']\n",
    "result = [ item*num for item in input_list for num in range(1,5)  ]\n",
    "print(\"['x','y','z'] => \" +   str(result))"
   ]
  },
  {
   "cell_type": "code",
   "execution_count": null,
   "metadata": {},
   "outputs": [],
   "source": []
  },
  {
   "cell_type": "markdown",
   "metadata": {},
   "source": [
    "#### 3. Implement a function longestWord() that takes a list of words and returns the longest one."
   ]
  },
  {
   "cell_type": "code",
   "execution_count": 33,
   "metadata": {},
   "outputs": [
    {
     "name": "stdout",
     "output_type": "stream",
     "text": [
      "Prasad Kalangi\n"
     ]
    }
   ],
   "source": [
    "def find_longest_word(words_list):  \n",
    "    word_len = []  \n",
    "    for n in words_list:  \n",
    "        word_len.append((len(n), n))  \n",
    "    word_len.sort()  \n",
    "    return word_len[-1][1]  \n",
    "  \n",
    "print(find_longest_word([\"kalangi\", \"Prasad Kalangi\", \"Prasad\"]))  "
   ]
  },
  {
   "cell_type": "code",
   "execution_count": null,
   "metadata": {},
   "outputs": [],
   "source": []
  },
  {
   "cell_type": "code",
   "execution_count": null,
   "metadata": {},
   "outputs": [],
   "source": []
  },
  {
   "cell_type": "markdown",
   "metadata": {},
   "source": [
    "# Task 2:"
   ]
  },
  {
   "cell_type": "code",
   "execution_count": null,
   "metadata": {},
   "outputs": [],
   "source": []
  },
  {
   "cell_type": "markdown",
   "metadata": {},
   "source": [
    "#### 1.1  Write a Python Program(with class concepts) to find the area of the triangle using the below formula. \n",
    "area = (s*(s-a)*(s-b)*(s-c)) ** 0.5  \n",
    "Function to take the length of the sides of triangle from user should be defined in the parent class and function to calculate the area should be defined in subclass. "
   ]
  },
  {
   "cell_type": "code",
   "execution_count": null,
   "metadata": {},
   "outputs": [],
   "source": [
    "import sys\n",
    "import math\n",
    " \n",
    "a = int(input(2))\n",
    "b = int(input(3))\n",
    "c = int(input(3))\n",
    "class triangle():\n",
    "   def __init__(self,a,b,c):\n",
    "       self.a = a\n",
    "       self.b = b\n",
    "       self.c = c\n",
    "   def area(self):\n",
    "       s=(a + b + c)/2\n",
    "       area=math.sqrt(s*(s-a)*(s-b)*(s-c))\n",
    "       return area\n",
    "t = triangle(a, b, c)\n",
    "print(t.area())"
   ]
  },
  {
   "cell_type": "code",
   "execution_count": null,
   "metadata": {},
   "outputs": [],
   "source": []
  },
  {
   "cell_type": "markdown",
   "metadata": {},
   "source": [
    "#### 1.2 Write a function filter_long_words() that takes a list of words and an integer n and returns the list of words that are longer than n. "
   ]
  },
  {
   "cell_type": "code",
   "execution_count": null,
   "metadata": {},
   "outputs": [],
   "source": [
    "def filter_long_word(list,integer):\n",
    "      listOfWords =[]\n",
    "        for i in range(len(list)):\n",
    "            if len(list[i])>integer:\n",
    "                listofwords.append(list[i]):\n",
    "                return listofwords\n",
    "    listofword=['Home','People','car','favourite']\n",
    "    listofinterger=[4,5,3,9]\n",
    "    print(str(filter_long_word(listofword,listofinteger)))"
   ]
  },
  {
   "cell_type": "code",
   "execution_count": null,
   "metadata": {},
   "outputs": [],
   "source": []
  },
  {
   "cell_type": "markdown",
   "metadata": {},
   "source": [
    "#### 2.1 Write a Python program using function concept that maps  list of words into a list of integers representing the lengths of the corresponding words​. \n",
    " Hint: ​If a list [ ab,cde,erty] is passed on to the python function output should come as [2,3,4] \n",
    " Here 2,3 and 4 are the lengths of the words in the list."
   ]
  },
  {
   "cell_type": "code",
   "execution_count": 13,
   "metadata": {},
   "outputs": [
    {
     "name": "stdout",
     "output_type": "stream",
     "text": [
      "Jump over the fence\n"
     ]
    }
   ],
   "source": [
    "str=\"Jump over the fence\"\n",
    "str.split(str)\n",
    "#str.split(\"str\")\n",
    "print(str)"
   ]
  },
  {
   "cell_type": "code",
   "execution_count": 14,
   "metadata": {},
   "outputs": [
    {
     "data": {
      "text/plain": [
       "['Jump', 'over', 'the', 'fence']"
      ]
     },
     "execution_count": 14,
     "metadata": {},
     "output_type": "execute_result"
    }
   ],
   "source": [
    "lt=[\"Jump\",\"over\",\"the\",\"fence\"]\n",
    "lt"
   ]
  },
  {
   "cell_type": "code",
   "execution_count": 15,
   "metadata": {},
   "outputs": [
    {
     "name": "stdout",
     "output_type": "stream",
     "text": [
      "['This', 'is', 'a', 'demonstration']\n",
      "[4, 2, 1, 13]\n"
     ]
    }
   ],
   "source": [
    "original_str = \"This is a demonstration\"\n",
    "num_words_list = list(original_str.split())\n",
    "print(num_words_list)\n",
    "num_words_list2=[len(i)for i in num_words_list]\n",
    "print(num_words_list2)"
   ]
  },
  {
   "cell_type": "code",
   "execution_count": null,
   "metadata": {},
   "outputs": [],
   "source": []
  },
  {
   "cell_type": "markdown",
   "metadata": {},
   "source": [
    "#### 2.2 Write a Python function which takes a character (i.e. a string of length 1) and returns True if it is a vowel, False otherwise"
   ]
  },
  {
   "cell_type": "code",
   "execution_count": 3,
   "metadata": {},
   "outputs": [],
   "source": [
    "def is_vowel(char):\n",
    "    if char == 'a' or 'e' or 'i' or 'o' or'u' or 'A' or 'E' or 'I' or 'O' or 'U':\n",
    "        print(True)\n",
    "    else:\n",
    "        print(False)"
   ]
  },
  {
   "cell_type": "code",
   "execution_count": null,
   "metadata": {},
   "outputs": [],
   "source": []
  },
  {
   "cell_type": "code",
   "execution_count": 16,
   "metadata": {},
   "outputs": [
    {
     "data": {
      "text/plain": [
       "True"
      ]
     },
     "execution_count": 16,
     "metadata": {},
     "output_type": "execute_result"
    }
   ],
   "source": [
    "any(c in \"India\"for c in 'aeiou')"
   ]
  },
  {
   "cell_type": "code",
   "execution_count": null,
   "metadata": {},
   "outputs": [],
   "source": [
    "import sys\n",
    "import math\n",
    " \n",
    "a = int(input(2))\n",
    "b = int(input(3))\n",
    "c = int(input(3))\n",
    "class triangle():\n",
    "   def __init__(self,a,b,c):\n",
    "       self.a = a\n",
    "       self.b = b\n",
    "       self.c = c\n",
    "   def area(self):\n",
    "       s=(a + b + c)/2\n",
    "       area=math.sqrt(s*(s-a)*(s-b)*(s-c))\n",
    "       return area\n",
    "t = triangle(a, b, c)\n",
    "print(t.area())"
   ]
  },
  {
   "cell_type": "code",
   "execution_count": null,
   "metadata": {},
   "outputs": [],
   "source": []
  }
 ],
 "metadata": {
  "kernelspec": {
   "display_name": "Python 3",
   "language": "python",
   "name": "python3"
  },
  "language_info": {
   "codemirror_mode": {
    "name": "ipython",
    "version": 3
   },
   "file_extension": ".py",
   "mimetype": "text/x-python",
   "name": "python",
   "nbconvert_exporter": "python",
   "pygments_lexer": "ipython3",
   "version": "3.6.5"
  }
 },
 "nbformat": 4,
 "nbformat_minor": 2
}
