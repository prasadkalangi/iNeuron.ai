{
  "nbformat": 4,
  "nbformat_minor": 0,
  "metadata": {
    "colab": {
      "name": "Python-assignment 3.ipynb",
      "provenance": [],
      "collapsed_sections": []
    },
    "kernelspec": {
      "name": "python3",
      "display_name": "Python 3"
    }
  },
  "cells": [
    {
      "cell_type": "markdown",
      "metadata": {
        "id": "AqAIqA3nSFL5",
        "colab_type": "text"
      },
      "source": [
        "#  **Task 1**"
      ]
    },
    {
      "cell_type": "markdown",
      "metadata": {
        "id": "p7xAuQTzSKfo",
        "colab_type": "text"
      },
      "source": [
        "**1)**"
      ]
    },
    {
      "cell_type": "code",
      "metadata": {
        "id": "9yH-ObUZSJBi",
        "colab_type": "code",
        "colab": {
          "base_uri": "https://localhost:8080/",
          "height": 34
        },
        "outputId": "301fce59-6c7d-4339-f5c3-425b614bac94"
      },
      "source": [
        "def div_by_zero():\n",
        " return 5/0\n",
        "\n",
        "\n",
        "try:\n",
        " div_by_zero()\n",
        "except ZeroDivisionError as e:\n",
        " print(\"Handle run-time 'div by 0'error:\", e)"
      ],
      "execution_count": 1,
      "outputs": [
        {
          "output_type": "stream",
          "text": [
            "Handle run-time 'div by 0'error: division by zero\n"
          ],
          "name": "stdout"
        }
      ]
    },
    {
      "cell_type": "markdown",
      "metadata": {
        "id": "WARyqE9FSTFE",
        "colab_type": "text"
      },
      "source": [
        "**2)**"
      ]
    },
    {
      "cell_type": "code",
      "metadata": {
        "id": "Hz0t91DeSUZY",
        "colab_type": "code",
        "colab": {
          "base_uri": "https://localhost:8080/",
          "height": 157
        },
        "outputId": "b5759788-7749-4477-8921-0032ef40ff9d"
      },
      "source": [
        "subject=[\"Americans\", \"Indians\"]\n",
        "verb=[\"Play\", \"watch\"]\n",
        "obj=[\"Baseball\",\"cricket\"]\n",
        "\n",
        "# Use list comprehension instead of looping over each of the predicates\n",
        "sentence_list = [(sub+\" \"+ vb + \" \" + ob) for sub in subject for vb in verb for ob in obj]\n",
        "for sentence in sentence_list:\n",
        " print (sentence)"
      ],
      "execution_count": 2,
      "outputs": [
        {
          "output_type": "stream",
          "text": [
            "Americans Play Baseball\n",
            "Americans Play cricket\n",
            "Americans watch Baseball\n",
            "Americans watch cricket\n",
            "Indians Play Baseball\n",
            "Indians Play cricket\n",
            "Indians watch Baseball\n",
            "Indians watch cricket\n"
          ],
          "name": "stdout"
        }
      ]
    },
    {
      "cell_type": "markdown",
      "metadata": {
        "id": "_5bqzlWLSaQc",
        "colab_type": "text"
      },
      "source": [
        "**3)**"
      ]
    },
    {
      "cell_type": "code",
      "metadata": {
        "id": "Rpi_dNNSSba-",
        "colab_type": "code",
        "colab": {
          "base_uri": "https://localhost:8080/",
          "height": 87
        },
        "outputId": "aa26d0fb-3614-4905-c3a2-1239388c7292"
      },
      "source": [
        "import numpy as np\n",
        "\n",
        "x = np.array([1, 2, 3, 5])\n",
        "np.vander(x, increasing = True)\n",
        "\n"
      ],
      "execution_count": 9,
      "outputs": [
        {
          "output_type": "execute_result",
          "data": {
            "text/plain": [
              "array([[  1,   1,   1,   1],\n",
              "       [  1,   2,   4,   8],\n",
              "       [  1,   3,   9,  27],\n",
              "       [  1,   5,  25, 125]])"
            ]
          },
          "metadata": {
            "tags": []
          },
          "execution_count": 9
        }
      ]
    },
    {
      "cell_type": "code",
      "metadata": {
        "id": "_jHE2BClUIiw",
        "colab_type": "code",
        "colab": {
          "base_uri": "https://localhost:8080/",
          "height": 87
        },
        "outputId": "1f0e7f1e-7d16-47e7-d908-70ca724c3a06"
      },
      "source": [
        "y = np.array([1, 2, 3, 5])\n",
        "np.vander(y, increasing = False)"
      ],
      "execution_count": 8,
      "outputs": [
        {
          "output_type": "execute_result",
          "data": {
            "text/plain": [
              "array([[  1,   1,   1,   1],\n",
              "       [  8,   4,   2,   1],\n",
              "       [ 27,   9,   3,   1],\n",
              "       [125,  25,   5,   1]])"
            ]
          },
          "metadata": {
            "tags": []
          },
          "execution_count": 8
        }
      ]
    }
  ]
}